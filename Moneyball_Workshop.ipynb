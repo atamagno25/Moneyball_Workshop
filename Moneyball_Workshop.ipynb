{
 "cells": [
  {
   "cell_type": "code",
   "execution_count": 44,
   "metadata": {},
   "outputs": [],
   "source": [
    "import pandas as pd\n",
    "import numpy as np\n",
    "import seaborn as sns\n",
    "import csv\n",
    "import matplotlib.pyplot as plt\n",
    "from sklearn import linear_model"
   ]
  },
  {
   "cell_type": "code",
   "execution_count": 45,
   "metadata": {},
   "outputs": [
    {
     "data": {
      "text/html": [
       "<div>\n",
       "<style scoped>\n",
       "    .dataframe tbody tr th:only-of-type {\n",
       "        vertical-align: middle;\n",
       "    }\n",
       "\n",
       "    .dataframe tbody tr th {\n",
       "        vertical-align: top;\n",
       "    }\n",
       "\n",
       "    .dataframe thead th {\n",
       "        text-align: right;\n",
       "    }\n",
       "</style>\n",
       "<table border=\"1\" class=\"dataframe\">\n",
       "  <thead>\n",
       "    <tr style=\"text-align: right;\">\n",
       "      <th></th>\n",
       "      <th>RK</th>\n",
       "      <th>TEAM</th>\n",
       "      <th>GP</th>\n",
       "      <th>MP</th>\n",
       "      <th>FG</th>\n",
       "      <th>FGA</th>\n",
       "      <th>FGP</th>\n",
       "      <th>THR</th>\n",
       "      <th>THRA</th>\n",
       "      <th>THRP</th>\n",
       "      <th>...</th>\n",
       "      <th>ORB</th>\n",
       "      <th>DRB</th>\n",
       "      <th>TRB</th>\n",
       "      <th>AST</th>\n",
       "      <th>STL</th>\n",
       "      <th>BLK</th>\n",
       "      <th>TOV</th>\n",
       "      <th>PF</th>\n",
       "      <th>PTS</th>\n",
       "      <th>W</th>\n",
       "    </tr>\n",
       "  </thead>\n",
       "  <tbody>\n",
       "    <tr>\n",
       "      <th>0</th>\n",
       "      <td>1.0</td>\n",
       "      <td>Milwaukee Bucks*</td>\n",
       "      <td>82</td>\n",
       "      <td>241.2</td>\n",
       "      <td>43.4</td>\n",
       "      <td>91.1</td>\n",
       "      <td>0.476</td>\n",
       "      <td>13.5</td>\n",
       "      <td>38.2</td>\n",
       "      <td>0.353</td>\n",
       "      <td>...</td>\n",
       "      <td>9.3</td>\n",
       "      <td>40.4</td>\n",
       "      <td>49.7</td>\n",
       "      <td>26.0</td>\n",
       "      <td>7.5</td>\n",
       "      <td>5.9</td>\n",
       "      <td>13.9</td>\n",
       "      <td>19.6</td>\n",
       "      <td>118.1</td>\n",
       "      <td>60</td>\n",
       "    </tr>\n",
       "    <tr>\n",
       "      <th>1</th>\n",
       "      <td>2.0</td>\n",
       "      <td>Golden State Warriors*</td>\n",
       "      <td>82</td>\n",
       "      <td>241.5</td>\n",
       "      <td>44.0</td>\n",
       "      <td>89.8</td>\n",
       "      <td>0.491</td>\n",
       "      <td>13.3</td>\n",
       "      <td>34.4</td>\n",
       "      <td>0.385</td>\n",
       "      <td>...</td>\n",
       "      <td>9.7</td>\n",
       "      <td>36.5</td>\n",
       "      <td>46.2</td>\n",
       "      <td>29.4</td>\n",
       "      <td>7.6</td>\n",
       "      <td>6.4</td>\n",
       "      <td>14.3</td>\n",
       "      <td>21.4</td>\n",
       "      <td>117.7</td>\n",
       "      <td>57</td>\n",
       "    </tr>\n",
       "    <tr>\n",
       "      <th>2</th>\n",
       "      <td>3.0</td>\n",
       "      <td>New Orleans Pelicans</td>\n",
       "      <td>82</td>\n",
       "      <td>240.9</td>\n",
       "      <td>43.7</td>\n",
       "      <td>92.2</td>\n",
       "      <td>0.473</td>\n",
       "      <td>10.3</td>\n",
       "      <td>29.9</td>\n",
       "      <td>0.344</td>\n",
       "      <td>...</td>\n",
       "      <td>11.1</td>\n",
       "      <td>36.2</td>\n",
       "      <td>47.3</td>\n",
       "      <td>27.0</td>\n",
       "      <td>7.4</td>\n",
       "      <td>5.4</td>\n",
       "      <td>14.8</td>\n",
       "      <td>21.1</td>\n",
       "      <td>115.4</td>\n",
       "      <td>33</td>\n",
       "    </tr>\n",
       "    <tr>\n",
       "      <th>3</th>\n",
       "      <td>4.0</td>\n",
       "      <td>Philadelphia 76ers*</td>\n",
       "      <td>82</td>\n",
       "      <td>241.5</td>\n",
       "      <td>41.5</td>\n",
       "      <td>88.2</td>\n",
       "      <td>0.471</td>\n",
       "      <td>10.8</td>\n",
       "      <td>30.2</td>\n",
       "      <td>0.359</td>\n",
       "      <td>...</td>\n",
       "      <td>10.9</td>\n",
       "      <td>36.9</td>\n",
       "      <td>47.8</td>\n",
       "      <td>26.9</td>\n",
       "      <td>7.4</td>\n",
       "      <td>5.3</td>\n",
       "      <td>14.9</td>\n",
       "      <td>21.3</td>\n",
       "      <td>115.2</td>\n",
       "      <td>51</td>\n",
       "    </tr>\n",
       "    <tr>\n",
       "      <th>4</th>\n",
       "      <td>5.0</td>\n",
       "      <td>Los Angeles Clippers*</td>\n",
       "      <td>82</td>\n",
       "      <td>241.8</td>\n",
       "      <td>41.3</td>\n",
       "      <td>87.5</td>\n",
       "      <td>0.471</td>\n",
       "      <td>10.0</td>\n",
       "      <td>25.8</td>\n",
       "      <td>0.388</td>\n",
       "      <td>...</td>\n",
       "      <td>9.7</td>\n",
       "      <td>35.8</td>\n",
       "      <td>45.5</td>\n",
       "      <td>24.0</td>\n",
       "      <td>6.8</td>\n",
       "      <td>4.7</td>\n",
       "      <td>14.5</td>\n",
       "      <td>23.3</td>\n",
       "      <td>115.1</td>\n",
       "      <td>48</td>\n",
       "    </tr>\n",
       "  </tbody>\n",
       "</table>\n",
       "<p>5 rows × 26 columns</p>\n",
       "</div>"
      ],
      "text/plain": [
       "    RK                    TEAM  GP     MP    FG   FGA    FGP   THR  THRA  \\\n",
       "0  1.0        Milwaukee Bucks*  82  241.2  43.4  91.1  0.476  13.5  38.2   \n",
       "1  2.0  Golden State Warriors*  82  241.5  44.0  89.8  0.491  13.3  34.4   \n",
       "2  3.0    New Orleans Pelicans  82  240.9  43.7  92.2  0.473  10.3  29.9   \n",
       "3  4.0     Philadelphia 76ers*  82  241.5  41.5  88.2  0.471  10.8  30.2   \n",
       "4  5.0   Los Angeles Clippers*  82  241.8  41.3  87.5  0.471  10.0  25.8   \n",
       "\n",
       "    THRP ...   ORB   DRB   TRB   AST  STL  BLK   TOV    PF    PTS   W  \n",
       "0  0.353 ...   9.3  40.4  49.7  26.0  7.5  5.9  13.9  19.6  118.1  60  \n",
       "1  0.385 ...   9.7  36.5  46.2  29.4  7.6  6.4  14.3  21.4  117.7  57  \n",
       "2  0.344 ...  11.1  36.2  47.3  27.0  7.4  5.4  14.8  21.1  115.4  33  \n",
       "3  0.359 ...  10.9  36.9  47.8  26.9  7.4  5.3  14.9  21.3  115.2  51  \n",
       "4  0.388 ...   9.7  35.8  45.5  24.0  6.8  4.7  14.5  23.3  115.1  48  \n",
       "\n",
       "[5 rows x 26 columns]"
      ]
     },
     "execution_count": 45,
     "metadata": {},
     "output_type": "execute_result"
    }
   ],
   "source": [
    "nba = pd.read_csv('/Users/Antoine/Desktop/NBA.csv')\n",
    "nba.head()"
   ]
  },
  {
   "cell_type": "code",
   "execution_count": null,
   "metadata": {},
   "outputs": [],
   "source": []
  },
  {
   "cell_type": "code",
   "execution_count": 46,
   "metadata": {},
   "outputs": [
    {
     "data": {
      "text/plain": [
       "<matplotlib.lines.Line2D at 0x1a17c63a90>"
      ]
     },
     "execution_count": 46,
     "metadata": {},
     "output_type": "execute_result"
    },
    {
     "data": {
      "image/png": "[encoded data removed]",
      "text/plain": [
       "<Figure size 720x576 with 1 Axes>"
      ]
     },
     "metadata": {
      "needs_background": "light"
     },
     "output_type": "display_data"
    }
   ],
   "source": [
    "plt.figure(figsize=(10,8))\n",
    "\n",
    "plt.scatter(x=nba.W,y = nba.AST,c=\"blue\")\n",
    "plt.xlabel(\"Wins\")\n",
    "plt.ylabel(\"Assists Per game\")\n",
    "plt.axvline(x = 20)\n",
    "plt.axhline(24, 0, 1, color = \"k\", ls = '--')"
   ]
  },
  {
   "cell_type": "code",
   "execution_count": 47,
   "metadata": {},
   "outputs": [
    {
     "data": {
      "text/plain": [
       "<matplotlib.axes._subplots.AxesSubplot at 0x1a17c4d210>"
      ]
     },
     "execution_count": 47,
     "metadata": {},
     "output_type": "execute_result"
    },
    {
     "data": {
      "image/png": "[encoded data removed]",
      "text/plain": [
       "<Figure size 1152x576 with 1 Axes>"
      ]
     },
     "metadata": {
      "needs_background": "light"
     },
     "output_type": "display_data"
    }
   ],
   "source": [
    "nba.plot(kind='scatter', x='AST', y='W', figsize=(16, 8))"
   ]
  },
  {
   "cell_type": "code",
   "execution_count": 48,
   "metadata": {},
   "outputs": [
    {
     "data": {
      "image/png": "[encoded data removed]",
      "text/plain": [
       "<Figure size 720x576 with 1 Axes>"
      ]
     },
     "metadata": {
      "needs_background": "light"
     },
     "output_type": "display_data"
    }
   ],
   "source": [
    "x = np.array(nba.W)\n",
    "y = np.array(nba.AST)\n",
    "slope, intercept = np.polyfit(x, y, 1)\n",
    "abline_values = [slope * i + intercept for i in x]\n",
    "plt.figure(figsize=(10,8))\n",
    "plt.scatter(x, y)\n",
    "plt.plot(x, abline_values, 'b')\n",
    "plt.title(\"Slope = %s\" % (slope))\n",
    "plt.xlabel(\"Wins\")\n",
    "plt.ylabel(\"Assists Per game\")\n",
    "plt.show()"
   ]
  },
  {
   "cell_type": "code",
   "execution_count": 49,
   "metadata": {},
   "outputs": [],
   "source": [
    "X = nba[['W']]\n",
    "Y = nba[['AST']]"
   ]
  },
  {
   "cell_type": "code",
   "execution_count": 50,
   "metadata": {},
   "outputs": [],
   "source": [
    "from sklearn.model_selection import train_test_split\n",
    "\n",
    "X_train, X_test, Y_train, Y_test = train_test_split(X, Y, test_size = .6, random_state=10000)"
   ]
  },
  {
   "cell_type": "code",
   "execution_count": 51,
   "metadata": {},
   "outputs": [
    {
     "data": {
      "text/plain": [
       "<matplotlib.collections.PathCollection at 0x1a18b4e990>"
      ]
     },
     "execution_count": 51,
     "metadata": {},
     "output_type": "execute_result"
    },
    {
     "data": {
      "image/png": "[encoded data removed]",
      "text/plain": [
       "<Figure size 432x288 with 1 Axes>"
      ]
     },
     "metadata": {
      "needs_background": "light"
     },
     "output_type": "display_data"
    }
   ],
   "source": [
    "from sklearn.linear_model import LinearRegression\n",
    "\n",
    "lm = LinearRegression()\n",
    "lm.fit(X_train, Y_train)\n",
    "\n",
    "\n",
    "Y_pred = lm.predict(X_test)\n",
    "\n",
    "plt.scatter(Y_test, Y_pred)"
   ]
  },
  {
   "cell_type": "code",
   "execution_count": 52,
   "metadata": {},
   "outputs": [
    {
     "name": "stdout",
     "output_type": "stream",
     "text": [
      "[-30.73307522]\n",
      "[[2.86446894]]\n"
     ]
    }
   ],
   "source": [
    "y = nba[['W']].values\n",
    "x = nba[['AST']].values\n",
    "Wins = linear_model.LinearRegression()\n",
    "Wins.fit(x,y)\n",
    " \n",
    "print(Wins.intercept_)\n",
    "print(Wins.coef_)"
   ]
  },
  {
   "cell_type": "code",
   "execution_count": 54,
   "metadata": {},
   "outputs": [
    {
     "data": {
      "text/plain": [
       "array([[43.7431172]])"
      ]
     },
     "execution_count": 54,
     "metadata": {},
     "output_type": "execute_result"
    }
   ],
   "source": [
    "Wins.predict([[26]])"
   ]
  },
  {
   "cell_type": "code",
   "execution_count": 55,
   "metadata": {},
   "outputs": [
    {
     "data": {
      "text/html": [
       "<div>\n",
       "<style scoped>\n",
       "    .dataframe tbody tr th:only-of-type {\n",
       "        vertical-align: middle;\n",
       "    }\n",
       "\n",
       "    .dataframe tbody tr th {\n",
       "        vertical-align: top;\n",
       "    }\n",
       "\n",
       "    .dataframe thead th {\n",
       "        text-align: right;\n",
       "    }\n",
       "</style>\n",
       "<table border=\"1\" class=\"dataframe\">\n",
       "  <thead>\n",
       "    <tr style=\"text-align: right;\">\n",
       "      <th></th>\n",
       "      <th>Rk</th>\n",
       "      <th>Player</th>\n",
       "      <th>Pos</th>\n",
       "      <th>Age</th>\n",
       "      <th>Tm</th>\n",
       "      <th>G</th>\n",
       "      <th>GS</th>\n",
       "      <th>MP</th>\n",
       "      <th>FG</th>\n",
       "      <th>FGA</th>\n",
       "      <th>...</th>\n",
       "      <th>ORB</th>\n",
       "      <th>DRB</th>\n",
       "      <th>TRB</th>\n",
       "      <th>AST</th>\n",
       "      <th>STL</th>\n",
       "      <th>BLK</th>\n",
       "      <th>TOV</th>\n",
       "      <th>PF</th>\n",
       "      <th>PTS</th>\n",
       "      <th>CONT</th>\n",
       "    </tr>\n",
       "  </thead>\n",
       "  <tbody>\n",
       "    <tr>\n",
       "      <th>0</th>\n",
       "      <td>4</td>\n",
       "      <td>Steven Adams\\adamsst01</td>\n",
       "      <td>C</td>\n",
       "      <td>25</td>\n",
       "      <td>OKC</td>\n",
       "      <td>80</td>\n",
       "      <td>80</td>\n",
       "      <td>33.4</td>\n",
       "      <td>6.0</td>\n",
       "      <td>10.1</td>\n",
       "      <td>...</td>\n",
       "      <td>4.9</td>\n",
       "      <td>4.6</td>\n",
       "      <td>9.5</td>\n",
       "      <td>1.6</td>\n",
       "      <td>1.5</td>\n",
       "      <td>1.0</td>\n",
       "      <td>1.7</td>\n",
       "      <td>2.6</td>\n",
       "      <td>13.9</td>\n",
       "      <td>15</td>\n",
       "    </tr>\n",
       "    <tr>\n",
       "      <th>1</th>\n",
       "      <td>5</td>\n",
       "      <td>Bam Adebayo\\adebaba01</td>\n",
       "      <td>C</td>\n",
       "      <td>21</td>\n",
       "      <td>MIA</td>\n",
       "      <td>82</td>\n",
       "      <td>28</td>\n",
       "      <td>23.3</td>\n",
       "      <td>3.4</td>\n",
       "      <td>5.9</td>\n",
       "      <td>...</td>\n",
       "      <td>2.0</td>\n",
       "      <td>5.3</td>\n",
       "      <td>7.3</td>\n",
       "      <td>2.2</td>\n",
       "      <td>0.9</td>\n",
       "      <td>0.8</td>\n",
       "      <td>1.5</td>\n",
       "      <td>2.5</td>\n",
       "      <td>8.9</td>\n",
       "      <td>10</td>\n",
       "    </tr>\n",
       "    <tr>\n",
       "      <th>2</th>\n",
       "      <td>8</td>\n",
       "      <td>LaMarcus Aldridge\\aldrila01</td>\n",
       "      <td>C</td>\n",
       "      <td>33</td>\n",
       "      <td>SAS</td>\n",
       "      <td>81</td>\n",
       "      <td>81</td>\n",
       "      <td>33.2</td>\n",
       "      <td>8.4</td>\n",
       "      <td>16.3</td>\n",
       "      <td>...</td>\n",
       "      <td>3.1</td>\n",
       "      <td>6.1</td>\n",
       "      <td>9.2</td>\n",
       "      <td>2.4</td>\n",
       "      <td>0.5</td>\n",
       "      <td>1.3</td>\n",
       "      <td>1.8</td>\n",
       "      <td>2.2</td>\n",
       "      <td>21.3</td>\n",
       "      <td>20</td>\n",
       "    </tr>\n",
       "    <tr>\n",
       "      <th>3</th>\n",
       "      <td>10</td>\n",
       "      <td>Grayson Allen\\allengr01</td>\n",
       "      <td>SG</td>\n",
       "      <td>23</td>\n",
       "      <td>UTA</td>\n",
       "      <td>38</td>\n",
       "      <td>2</td>\n",
       "      <td>10.9</td>\n",
       "      <td>1.8</td>\n",
       "      <td>4.7</td>\n",
       "      <td>...</td>\n",
       "      <td>0.1</td>\n",
       "      <td>0.5</td>\n",
       "      <td>0.6</td>\n",
       "      <td>0.7</td>\n",
       "      <td>0.2</td>\n",
       "      <td>0.2</td>\n",
       "      <td>0.9</td>\n",
       "      <td>1.2</td>\n",
       "      <td>5.6</td>\n",
       "      <td>5</td>\n",
       "    </tr>\n",
       "    <tr>\n",
       "      <th>4</th>\n",
       "      <td>11</td>\n",
       "      <td>Jarrett Allen\\allenja01</td>\n",
       "      <td>C</td>\n",
       "      <td>20</td>\n",
       "      <td>BRK</td>\n",
       "      <td>80</td>\n",
       "      <td>80</td>\n",
       "      <td>26.2</td>\n",
       "      <td>4.2</td>\n",
       "      <td>7.1</td>\n",
       "      <td>...</td>\n",
       "      <td>2.4</td>\n",
       "      <td>6.0</td>\n",
       "      <td>8.4</td>\n",
       "      <td>1.4</td>\n",
       "      <td>0.5</td>\n",
       "      <td>1.5</td>\n",
       "      <td>1.3</td>\n",
       "      <td>2.3</td>\n",
       "      <td>10.9</td>\n",
       "      <td>10</td>\n",
       "    </tr>\n",
       "  </tbody>\n",
       "</table>\n",
       "<p>5 rows × 31 columns</p>\n",
       "</div>"
      ],
      "text/plain": [
       "   Rk                       Player Pos  Age   Tm   G  GS    MP   FG   FGA  \\\n",
       "0   4       Steven Adams\\adamsst01   C   25  OKC  80  80  33.4  6.0  10.1   \n",
       "1   5        Bam Adebayo\\adebaba01   C   21  MIA  82  28  23.3  3.4   5.9   \n",
       "2   8  LaMarcus Aldridge\\aldrila01   C   33  SAS  81  81  33.2  8.4  16.3   \n",
       "3  10      Grayson Allen\\allengr01  SG   23  UTA  38   2  10.9  1.8   4.7   \n",
       "4  11      Jarrett Allen\\allenja01   C   20  BRK  80  80  26.2  4.2   7.1   \n",
       "\n",
       "   ...   ORB  DRB  TRB  AST  STL  BLK  TOV   PF   PTS  CONT  \n",
       "0  ...   4.9  4.6  9.5  1.6  1.5  1.0  1.7  2.6  13.9    15  \n",
       "1  ...   2.0  5.3  7.3  2.2  0.9  0.8  1.5  2.5   8.9    10  \n",
       "2  ...   3.1  6.1  9.2  2.4  0.5  1.3  1.8  2.2  21.3    20  \n",
       "3  ...   0.1  0.5  0.6  0.7  0.2  0.2  0.9  1.2   5.6     5  \n",
       "4  ...   2.4  6.0  8.4  1.4  0.5  1.5  1.3  2.3  10.9    10  \n",
       "\n",
       "[5 rows x 31 columns]"
      ]
     },
     "execution_count": 55,
     "metadata": {},
     "output_type": "execute_result"
    }
   ],
   "source": [
    "nba = pd.read_csv('/Users/Antoine/Documents/NBA1.csv')\n",
    "nba.head()"
   ]
  },
  {
   "cell_type": "code",
   "execution_count": 56,
   "metadata": {},
   "outputs": [
    {
     "data": {
      "text/plain": [
       "<matplotlib.lines.Line2D at 0x1a18bb0110>"
      ]
     },
     "execution_count": 56,
     "metadata": {},
     "output_type": "execute_result"
    },
    {
     "data": {
      "image/png": "[encoded data removed]",
      "text/plain": [
       "<Figure size 720x576 with 1 Axes>"
      ]
     },
     "metadata": {
      "needs_background": "light"
     },
     "output_type": "display_data"
    }
   ],
   "source": [
    "plt.figure(figsize=(10,8))\n",
    "\n",
    "plt.scatter(x=nba.CONT,y = nba.AST,c=\"blue\")\n",
    "plt.xlabel(\"Contract (In Millions)\")\n",
    "plt.ylabel(\"Assists Per game\")\n",
    "plt.axvline(x = 10)\n",
    "plt.axhline(7, 0, 1, color = \"k\", ls = '--')"
   ]
  },
  {
   "cell_type": "code",
   "execution_count": 57,
   "metadata": {},
   "outputs": [
    {
     "data": {
      "text/plain": [
       "<matplotlib.axes._subplots.AxesSubplot at 0x1a18c33d90>"
      ]
     },
     "execution_count": 57,
     "metadata": {},
     "output_type": "execute_result"
    },
    {
     "data": {
      "image/png": "[encoded data removed]",
      "text/plain": [
       "<Figure size 1152x576 with 1 Axes>"
      ]
     },
     "metadata": {
      "needs_background": "light"
     },
     "output_type": "display_data"
    }
   ],
   "source": [
    "nba.plot(kind='scatter', x='CONT', y='AST', figsize=(16, 8))"
   ]
  },
  {
   "cell_type": "code",
   "execution_count": 58,
   "metadata": {},
   "outputs": [
    {
     "data": {
      "image/png": "[encoded data removed]",
      "text/plain": [
       "<Figure size 720x576 with 1 Axes>"
      ]
     },
     "metadata": {
      "needs_background": "light"
     },
     "output_type": "display_data"
    }
   ],
   "source": [
    "x = np.array(nba.CONT)\n",
    "y = np.array(nba.AST)\n",
    "slope, intercept = np.polyfit(x, y, 1)\n",
    "abline_values = [slope * i + intercept for i in x]\n",
    "plt.figure(figsize=(10,8))\n",
    "plt.scatter(x, y)\n",
    "plt.plot(x, abline_values, 'b')\n",
    "plt.title(\"Slope = %s\" % (slope))\n",
    "plt.xlabel(\"Contract\")\n",
    "plt.ylabel(\"Assists Per game\")\n",
    "plt.show()"
   ]
  },
  {
   "cell_type": "code",
   "execution_count": 59,
   "metadata": {},
   "outputs": [],
   "source": [
    "y = nba[['CONT']].values.reshape(-1,1)\n",
    "x = nba[['AST']].values.reshape(-1,1)"
   ]
  },
  {
   "cell_type": "code",
   "execution_count": 60,
   "metadata": {},
   "outputs": [],
   "source": [
    "x_train, x_test, y_train, y_test = train_test_split(x, y, test_size=0.5, random_state=10)"
   ]
  },
  {
   "cell_type": "code",
   "execution_count": 61,
   "metadata": {},
   "outputs": [
    {
     "data": {
      "text/plain": [
       "<matplotlib.collections.PathCollection at 0x1a192ff310>"
      ]
     },
     "execution_count": 61,
     "metadata": {},
     "output_type": "execute_result"
    },
    {
     "data": {
      "image/png": "[encoded data removed]",
      "text/plain": [
       "<Figure size 432x288 with 1 Axes>"
      ]
     },
     "metadata": {
      "needs_background": "light"
     },
     "output_type": "display_data"
    }
   ],
   "source": [
    "from sklearn.linear_model import LinearRegression\n",
    "\n",
    "lm = LinearRegression()\n",
    "lm.fit(X_train, Y_train)\n",
    "\n",
    "\n",
    "Y_pred = lm.predict(X_test)\n",
    "\n",
    "plt.scatter(Y_test, Y_pred)"
   ]
  },
  {
   "cell_type": "code",
   "execution_count": 62,
   "metadata": {},
   "outputs": [
    {
     "name": "stdout",
     "output_type": "stream",
     "text": [
      "[5.2337987]\n",
      "[[2.26840221]]\n"
     ]
    }
   ],
   "source": [
    "y = nba[['CONT']].values\n",
    "x = nba[['AST']].values\n",
    "Wins = linear_model.LinearRegression()\n",
    "Wins.fit(x,y)\n",
    " \n",
    "print(Wins.intercept_)\n",
    "print(Wins.coef_)"
   ]
  },
  {
   "cell_type": "code",
   "execution_count": 67,
   "metadata": {},
   "outputs": [
    {
     "data": {
      "text/plain": [
       "array([[21.11261416]])"
      ]
     },
     "execution_count": 67,
     "metadata": {},
     "output_type": "execute_result"
    }
   ],
   "source": [
    "Wins.predict([[7]])"
   ]
  },
  {
   "cell_type": "markdown",
   "metadata": {},
   "source": [
    "A player in this level that we can select could be D'Angelo Russell as he averages more than 7 assists."
   ]
  }
 ],
 "metadata": {
  "kernelspec": {
   "display_name": "Python 2",
   "language": "python",
   "name": "python2"
  },
  "language_info": {
   "codemirror_mode": {
    "name": "ipython",
    "version": 2
   },
   "file_extension": ".py",
   "mimetype": "text/x-python",
   "name": "python",
   "nbconvert_exporter": "python",
   "pygments_lexer": "ipython2",
   "version": "2.7.15"
  }
 },
 "nbformat": 4,
 "nbformat_minor": 2
}
